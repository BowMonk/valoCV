{
 "cells": [
  {
   "cell_type": "code",
   "execution_count": 10,
   "outputs": [
    {
     "name": "stderr",
     "output_type": "stream",
     "text": [
      "Cloning into 'yolov5'...\n"
     ]
    }
   ],
   "source": [
    "!git clone https://github.com/ultralytics/yolov5"
   ],
   "metadata": {
    "collapsed": false,
    "ExecuteTime": {
     "end_time": "2023-05-26T11:34:34.131937600Z",
     "start_time": "2023-05-26T11:34:30.213205100Z"
    }
   }
  },
  {
   "cell_type": "code",
   "execution_count": 11,
   "outputs": [
    {
     "name": "stdout",
     "output_type": "stream",
     "text": [
      "D:\\valoCV\\Yolo\\yolov5\n"
     ]
    }
   ],
   "source": [
    "%cd yolov5"
   ],
   "metadata": {
    "collapsed": false,
    "ExecuteTime": {
     "end_time": "2023-05-26T11:34:47.512358600Z",
     "start_time": "2023-05-26T11:34:47.488885400Z"
    }
   }
  },
  {
   "cell_type": "code",
   "execution_count": 13,
   "outputs": [
    {
     "name": "stdout",
     "output_type": "stream",
     "text": [
      "Requirement already satisfied: gitpython>=3.1.30 in c:\\users\\akash\\anaconda3\\envs\\systems_security\\lib\\site-packages (from -r requirements.txt (line 5)) (3.1.31)\n",
      "Requirement already satisfied: matplotlib>=3.3 in c:\\users\\akash\\anaconda3\\envs\\systems_security\\lib\\site-packages (from -r requirements.txt (line 6)) (3.7.1)\n",
      "Requirement already satisfied: numpy>=1.18.5 in c:\\users\\akash\\anaconda3\\envs\\systems_security\\lib\\site-packages (from -r requirements.txt (line 7)) (1.24.3)\n",
      "Requirement already satisfied: opencv-python>=4.1.1 in c:\\users\\akash\\anaconda3\\envs\\systems_security\\lib\\site-packages (from -r requirements.txt (line 8)) (4.7.0.72)\n",
      "Requirement already satisfied: Pillow>=7.1.2 in c:\\users\\akash\\anaconda3\\envs\\systems_security\\lib\\site-packages (from -r requirements.txt (line 9)) (9.5.0)\n",
      "Requirement already satisfied: psutil in c:\\users\\akash\\anaconda3\\envs\\systems_security\\lib\\site-packages (from -r requirements.txt (line 10)) (5.9.5)\n",
      "Requirement already satisfied: PyYAML>=5.3.1 in c:\\users\\akash\\anaconda3\\envs\\systems_security\\lib\\site-packages (from -r requirements.txt (line 11)) (6.0)\n",
      "Requirement already satisfied: requests>=2.23.0 in c:\\users\\akash\\anaconda3\\envs\\systems_security\\lib\\site-packages (from -r requirements.txt (line 12)) (2.28.1)\n",
      "Requirement already satisfied: scipy>=1.4.1 in c:\\users\\akash\\anaconda3\\envs\\systems_security\\lib\\site-packages (from -r requirements.txt (line 13)) (1.10.1)\n",
      "Requirement already satisfied: thop>=0.1.1 in c:\\users\\akash\\anaconda3\\envs\\systems_security\\lib\\site-packages (from -r requirements.txt (line 14)) (0.1.1.post2209072238)\n",
      "Requirement already satisfied: torch>=1.7.0 in c:\\users\\akash\\anaconda3\\envs\\systems_security\\lib\\site-packages (from -r requirements.txt (line 15)) (2.0.1+cu118)\n",
      "Requirement already satisfied: torchvision>=0.8.1 in c:\\users\\akash\\anaconda3\\envs\\systems_security\\lib\\site-packages (from -r requirements.txt (line 16)) (0.15.2+cu118)\n",
      "Requirement already satisfied: tqdm>=4.64.0 in c:\\users\\akash\\anaconda3\\envs\\systems_security\\lib\\site-packages (from -r requirements.txt (line 17)) (4.65.0)\n",
      "Requirement already satisfied: ultralytics>=8.0.100 in c:\\users\\akash\\anaconda3\\envs\\systems_security\\lib\\site-packages (from -r requirements.txt (line 18)) (8.0.109)\n",
      "Requirement already satisfied: pandas>=1.1.4 in c:\\users\\akash\\anaconda3\\envs\\systems_security\\lib\\site-packages (from -r requirements.txt (line 27)) (2.0.1)\n",
      "Requirement already satisfied: seaborn>=0.11.0 in c:\\users\\akash\\anaconda3\\envs\\systems_security\\lib\\site-packages (from -r requirements.txt (line 28)) (0.12.2)\n",
      "Requirement already satisfied: setuptools>=65.5.1 in c:\\users\\akash\\anaconda3\\envs\\systems_security\\lib\\site-packages (from -r requirements.txt (line 42)) (66.0.0)\n",
      "Requirement already satisfied: gitdb<5,>=4.0.1 in c:\\users\\akash\\anaconda3\\envs\\systems_security\\lib\\site-packages (from gitpython>=3.1.30->-r requirements.txt (line 5)) (4.0.10)\n",
      "Requirement already satisfied: cycler>=0.10 in c:\\users\\akash\\anaconda3\\envs\\systems_security\\lib\\site-packages (from matplotlib>=3.3->-r requirements.txt (line 6)) (0.10.0)\n",
      "Requirement already satisfied: importlib-resources>=3.2.0 in c:\\users\\akash\\anaconda3\\envs\\systems_security\\lib\\site-packages (from matplotlib>=3.3->-r requirements.txt (line 6)) (5.12.0)\n",
      "Requirement already satisfied: kiwisolver>=1.0.1 in c:\\users\\akash\\anaconda3\\envs\\systems_security\\lib\\site-packages (from matplotlib>=3.3->-r requirements.txt (line 6)) (1.4.4)\n",
      "Requirement already satisfied: contourpy>=1.0.1 in c:\\users\\akash\\anaconda3\\envs\\systems_security\\lib\\site-packages (from matplotlib>=3.3->-r requirements.txt (line 6)) (1.0.7)\n",
      "Requirement already satisfied: pyparsing>=2.3.1 in c:\\users\\akash\\anaconda3\\envs\\systems_security\\lib\\site-packages (from matplotlib>=3.3->-r requirements.txt (line 6)) (2.4.7)\n",
      "Requirement already satisfied: fonttools>=4.22.0 in c:\\users\\akash\\anaconda3\\envs\\systems_security\\lib\\site-packages (from matplotlib>=3.3->-r requirements.txt (line 6)) (4.39.3)\n",
      "Requirement already satisfied: packaging>=20.0 in c:\\users\\akash\\anaconda3\\envs\\systems_security\\lib\\site-packages (from matplotlib>=3.3->-r requirements.txt (line 6)) (23.1)\n",
      "Requirement already satisfied: python-dateutil>=2.7 in c:\\users\\akash\\anaconda3\\envs\\systems_security\\lib\\site-packages (from matplotlib>=3.3->-r requirements.txt (line 6)) (2.8.2)\n",
      "Requirement already satisfied: idna<4,>=2.5 in c:\\users\\akash\\anaconda3\\envs\\systems_security\\lib\\site-packages (from requests>=2.23.0->-r requirements.txt (line 12)) (2.10)\n",
      "Requirement already satisfied: certifi>=2017.4.17 in c:\\users\\akash\\anaconda3\\envs\\systems_security\\lib\\site-packages (from requests>=2.23.0->-r requirements.txt (line 12)) (2022.12.7)\n",
      "Requirement already satisfied: urllib3<1.27,>=1.21.1 in c:\\users\\akash\\anaconda3\\envs\\systems_security\\lib\\site-packages (from requests>=2.23.0->-r requirements.txt (line 12)) (1.26.13)\n",
      "Requirement already satisfied: charset-normalizer<3,>=2 in c:\\users\\akash\\anaconda3\\envs\\systems_security\\lib\\site-packages (from requests>=2.23.0->-r requirements.txt (line 12)) (2.1.1)\n",
      "Requirement already satisfied: sympy in c:\\users\\akash\\anaconda3\\envs\\systems_security\\lib\\site-packages (from torch>=1.7.0->-r requirements.txt (line 15)) (1.11.1)\n",
      "Requirement already satisfied: filelock in c:\\users\\akash\\anaconda3\\envs\\systems_security\\lib\\site-packages (from torch>=1.7.0->-r requirements.txt (line 15)) (3.9.0)\n",
      "Requirement already satisfied: networkx in c:\\users\\akash\\anaconda3\\envs\\systems_security\\lib\\site-packages (from torch>=1.7.0->-r requirements.txt (line 15)) (3.0)\n",
      "Requirement already satisfied: typing-extensions in c:\\users\\akash\\anaconda3\\envs\\systems_security\\lib\\site-packages (from torch>=1.7.0->-r requirements.txt (line 15)) (4.4.0)\n",
      "Requirement already satisfied: jinja2 in c:\\users\\akash\\anaconda3\\envs\\systems_security\\lib\\site-packages (from torch>=1.7.0->-r requirements.txt (line 15)) (3.1.2)\n",
      "Requirement already satisfied: colorama in c:\\users\\akash\\anaconda3\\envs\\systems_security\\lib\\site-packages (from tqdm>=4.64.0->-r requirements.txt (line 17)) (0.4.6)\n",
      "Requirement already satisfied: sentry-sdk in c:\\users\\akash\\anaconda3\\envs\\systems_security\\lib\\site-packages (from ultralytics>=8.0.100->-r requirements.txt (line 18)) (1.24.0)\n",
      "Requirement already satisfied: pytz>=2020.1 in c:\\users\\akash\\anaconda3\\envs\\systems_security\\lib\\site-packages (from pandas>=1.1.4->-r requirements.txt (line 27)) (2023.3)\n",
      "Requirement already satisfied: tzdata>=2022.1 in c:\\users\\akash\\anaconda3\\envs\\systems_security\\lib\\site-packages (from pandas>=1.1.4->-r requirements.txt (line 27)) (2023.3)\n",
      "Requirement already satisfied: six in c:\\users\\akash\\anaconda3\\envs\\systems_security\\lib\\site-packages (from cycler>=0.10->matplotlib>=3.3->-r requirements.txt (line 6)) (1.16.0)\n",
      "Requirement already satisfied: smmap<6,>=3.0.1 in c:\\users\\akash\\anaconda3\\envs\\systems_security\\lib\\site-packages (from gitdb<5,>=4.0.1->gitpython>=3.1.30->-r requirements.txt (line 5)) (5.0.0)\n",
      "Requirement already satisfied: zipp>=3.1.0 in c:\\users\\akash\\anaconda3\\envs\\systems_security\\lib\\site-packages (from importlib-resources>=3.2.0->matplotlib>=3.3->-r requirements.txt (line 6)) (3.15.0)\n",
      "Requirement already satisfied: MarkupSafe>=2.0 in c:\\users\\akash\\anaconda3\\envs\\systems_security\\lib\\site-packages (from jinja2->torch>=1.7.0->-r requirements.txt (line 15)) (2.1.2)\n",
      "Requirement already satisfied: mpmath>=0.19 in c:\\users\\akash\\anaconda3\\envs\\systems_security\\lib\\site-packages (from sympy->torch>=1.7.0->-r requirements.txt (line 15)) (1.2.1)\n"
     ]
    }
   ],
   "source": [
    "!pip install -r requirements.txt"
   ],
   "metadata": {
    "collapsed": false,
    "ExecuteTime": {
     "end_time": "2023-05-26T11:34:55.423071500Z",
     "start_time": "2023-05-26T11:34:54.271293700Z"
    }
   }
  },
  {
   "cell_type": "code",
   "execution_count": 14,
   "outputs": [
    {
     "name": "stdout",
     "output_type": "stream",
     "text": [
      "Requirement already satisfied: roboflow in c:\\users\\akash\\anaconda3\\envs\\systems_security\\lib\\site-packages (1.0.9)\n",
      "Requirement already satisfied: pyparsing==2.4.7 in c:\\users\\akash\\anaconda3\\envs\\systems_security\\lib\\site-packages (from roboflow) (2.4.7)\n",
      "Requirement already satisfied: cycler==0.10.0 in c:\\users\\akash\\anaconda3\\envs\\systems_security\\lib\\site-packages (from roboflow) (0.10.0)\n",
      "Requirement already satisfied: matplotlib in c:\\users\\akash\\anaconda3\\envs\\systems_security\\lib\\site-packages (from roboflow) (3.7.1)\n",
      "Requirement already satisfied: chardet==4.0.0 in c:\\users\\akash\\anaconda3\\envs\\systems_security\\lib\\site-packages (from roboflow) (4.0.0)\n",
      "Requirement already satisfied: python-dotenv in c:\\users\\akash\\anaconda3\\envs\\systems_security\\lib\\site-packages (from roboflow) (1.0.0)\n",
      "Requirement already satisfied: opencv-python>=4.1.2 in c:\\users\\akash\\anaconda3\\envs\\systems_security\\lib\\site-packages (from roboflow) (4.7.0.72)\n",
      "Requirement already satisfied: idna==2.10 in c:\\users\\akash\\anaconda3\\envs\\systems_security\\lib\\site-packages (from roboflow) (2.10)\n",
      "Requirement already satisfied: Pillow>=7.1.2 in c:\\users\\akash\\anaconda3\\envs\\systems_security\\lib\\site-packages (from roboflow) (9.5.0)\n",
      "Requirement already satisfied: PyYAML>=5.3.1 in c:\\users\\akash\\anaconda3\\envs\\systems_security\\lib\\site-packages (from roboflow) (6.0)\n",
      "Requirement already satisfied: requests-toolbelt in c:\\users\\akash\\anaconda3\\envs\\systems_security\\lib\\site-packages (from roboflow) (1.0.0)\n",
      "Requirement already satisfied: requests in c:\\users\\akash\\anaconda3\\envs\\systems_security\\lib\\site-packages (from roboflow) (2.28.1)\n",
      "Requirement already satisfied: kiwisolver>=1.3.1 in c:\\users\\akash\\anaconda3\\envs\\systems_security\\lib\\site-packages (from roboflow) (1.4.4)\n",
      "Requirement already satisfied: urllib3>=1.26.6 in c:\\users\\akash\\anaconda3\\envs\\systems_security\\lib\\site-packages (from roboflow) (1.26.13)\n",
      "Requirement already satisfied: six in c:\\users\\akash\\anaconda3\\envs\\systems_security\\lib\\site-packages (from roboflow) (1.16.0)\n",
      "Requirement already satisfied: certifi==2022.12.7 in c:\\users\\akash\\anaconda3\\envs\\systems_security\\lib\\site-packages (from roboflow) (2022.12.7)\n",
      "Requirement already satisfied: wget in c:\\users\\akash\\anaconda3\\envs\\systems_security\\lib\\site-packages (from roboflow) (3.2)\n",
      "Requirement already satisfied: numpy>=1.18.5 in c:\\users\\akash\\anaconda3\\envs\\systems_security\\lib\\site-packages (from roboflow) (1.24.3)\n",
      "Requirement already satisfied: tqdm>=4.41.0 in c:\\users\\akash\\anaconda3\\envs\\systems_security\\lib\\site-packages (from roboflow) (4.65.0)\n",
      "Requirement already satisfied: python-dateutil in c:\\users\\akash\\anaconda3\\envs\\systems_security\\lib\\site-packages (from roboflow) (2.8.2)\n",
      "Requirement already satisfied: colorama in c:\\users\\akash\\anaconda3\\envs\\systems_security\\lib\\site-packages (from tqdm>=4.41.0->roboflow) (0.4.6)\n",
      "Requirement already satisfied: fonttools>=4.22.0 in c:\\users\\akash\\anaconda3\\envs\\systems_security\\lib\\site-packages (from matplotlib->roboflow) (4.39.3)\n",
      "Requirement already satisfied: importlib-resources>=3.2.0 in c:\\users\\akash\\anaconda3\\envs\\systems_security\\lib\\site-packages (from matplotlib->roboflow) (5.12.0)\n",
      "Requirement already satisfied: contourpy>=1.0.1 in c:\\users\\akash\\anaconda3\\envs\\systems_security\\lib\\site-packages (from matplotlib->roboflow) (1.0.7)\n",
      "Requirement already satisfied: packaging>=20.0 in c:\\users\\akash\\anaconda3\\envs\\systems_security\\lib\\site-packages (from matplotlib->roboflow) (23.1)\n",
      "Requirement already satisfied: charset-normalizer<3,>=2 in c:\\users\\akash\\anaconda3\\envs\\systems_security\\lib\\site-packages (from requests->roboflow) (2.1.1)\n",
      "Requirement already satisfied: zipp>=3.1.0 in c:\\users\\akash\\anaconda3\\envs\\systems_security\\lib\\site-packages (from importlib-resources>=3.2.0->matplotlib->roboflow) (3.15.0)\n",
      "loading Roboflow workspace...\n",
      "loading Roboflow project...\n",
      "Downloading Dataset Version Zip in valorant-object-detection2-4 to yolov5pytorch: 100% [12744876 / 12744876] bytes\n"
     ]
    },
    {
     "name": "stderr",
     "output_type": "stream",
     "text": [
      "Extracting Dataset Version Zip to valorant-object-detection2-4 in yolov5pytorch:: 100%|██████████| 1028/1028 [00:11<00:00, 90.79it/s]\n"
     ]
    }
   ],
   "source": [
    "!pip install roboflow\n",
    "\n",
    "from roboflow import Roboflow\n",
    "rf = Roboflow(api_key=\"Mb2vOucwpOBqXf6C06wc\")\n",
    "project = rf.workspace(\"aimbot-creators\").project(\"valorant-object-detection2\")\n",
    "dataset = project.version(4).download(\"yolov5\")"
   ],
   "metadata": {
    "collapsed": false,
    "ExecuteTime": {
     "end_time": "2023-05-26T11:36:05.397547Z",
     "start_time": "2023-05-26T11:35:49.123635100Z"
    }
   }
  },
  {
   "cell_type": "code",
   "execution_count": 15,
   "outputs": [],
   "source": [
    "import os\n",
    "os.rename('valorant-object-detection2-4', 'datasets')"
   ],
   "metadata": {
    "collapsed": false,
    "ExecuteTime": {
     "end_time": "2023-05-26T11:39:02.715518300Z",
     "start_time": "2023-05-26T11:39:02.685517400Z"
    }
   }
  },
  {
   "cell_type": "code",
   "execution_count": 28,
   "outputs": [
    {
     "ename": "FileNotFoundError",
     "evalue": "[WinError 2] The system cannot find the file specified: 'datasets/data.yaml'",
     "output_type": "error",
     "traceback": [
      "\u001B[1;31m---------------------------------------------------------------------------\u001B[0m",
      "\u001B[1;31mFileNotFoundError\u001B[0m                         Traceback (most recent call last)",
      "Cell \u001B[1;32mIn[28], line 10\u001B[0m\n\u001B[0;32m      8\u001B[0m \u001B[38;5;66;03m# copy the file\u001B[39;00m\n\u001B[0;32m      9\u001B[0m shutil\u001B[38;5;241m.\u001B[39mcopyfile(source_file, destination_file)\n\u001B[1;32m---> 10\u001B[0m \u001B[43mos\u001B[49m\u001B[38;5;241;43m.\u001B[39;49m\u001B[43mremove\u001B[49m\u001B[43m(\u001B[49m\u001B[43mdeleted_file\u001B[49m\u001B[43m)\u001B[49m\n",
      "\u001B[1;31mFileNotFoundError\u001B[0m: [WinError 2] The system cannot find the file specified: 'datasets/data.yaml'"
     ]
    }
   ],
   "source": [
    "import shutil\n",
    "\n",
    "# define the source file and destination file paths\n",
    "source_file = '../valorant.yaml'\n",
    "destination_file = 'data/valorant.yaml'\n",
    "deleted_file = 'datasets/data.yaml'\n",
    "\n",
    "# copy the file\n",
    "shutil.copyfile(source_file, destination_file)\n",
    "os.remove(deleted_file)"
   ],
   "metadata": {
    "collapsed": false,
    "ExecuteTime": {
     "end_time": "2023-05-26T13:34:31.512Z",
     "start_time": "2023-05-26T13:34:31.457995700Z"
    }
   }
  },
  {
   "cell_type": "code",
   "execution_count": 31,
   "outputs": [
    {
     "name": "stdout",
     "output_type": "stream",
     "text": [
      "Setup complete. Using torch 2.0.1+cu118 _CudaDeviceProperties(name='NVIDIA GeForce RTX 3070', major=8, minor=6, total_memory=8191MB, multi_processor_count=46)\n"
     ]
    }
   ],
   "source": [
    "!pip install -qr requirements.txt\n",
    "import torch\n",
    "\n",
    "# clear_output()\n",
    "print('Setup complete. Using torch %s %s' % (torch.__version__, torch.cuda.get_device_properties(0) if torch.cuda.is_available() else 'CPU'))"
   ],
   "metadata": {
    "collapsed": false,
    "ExecuteTime": {
     "end_time": "2023-05-26T13:47:47.471950Z",
     "start_time": "2023-05-26T13:47:46.223949200Z"
    }
   }
  },
  {
   "cell_type": "code",
   "execution_count": 40,
   "outputs": [
    {
     "name": "stdout",
     "output_type": "stream",
     "text": [
      "Microsoft Windows [Version 10.0.19045.2965]\r\n",
      "(c) Microsoft Corporation. All rights reserved.\r\n",
      "\r\n",
      "(systems_security) D:\\valoCV\\Yolo\\yolov5>python train.py --img 416 --batch 4 --epochs 1 --data valorant.yaml --cfg ./models/yolov5s.yaml --weights ../best.pt --cache\n"
     ]
    },
    {
     "name": "stderr",
     "output_type": "stream",
     "text": [
      "\u001B[34m\u001B[1mtrain: \u001B[0mweights=../best.pt, cfg=./models/yolov5s.yaml, data=valorant.yaml, hyp=data\\hyps\\hyp.scratch-low.yaml, epochs=1, batch_size=4, imgsz=416, rect=False, resume=False, nosave=False, noval=False, noautoanchor=False, noplots=False, evolve=None, bucket=, cache=ram, image_weights=False, device=, multi_scale=False, single_cls=False, optimizer=SGD, sync_bn=False, workers=8, project=runs\\train, name=exp, exist_ok=False, quad=False, cos_lr=False, label_smoothing=0.0, patience=100, freeze=[0], save_period=-1, seed=0, local_rank=-1, entity=None, upload_dataset=False, bbox_interval=-1, artifact_alias=latest\r\n",
      "\u001B[34m\u001B[1mgithub: \u001B[0mup to date with https://github.com/ultralytics/yolov5 \r\n",
      "YOLOv5  v7.0-172-gc3c1304 Python-3.9.16 torch-2.0.1+cu118 CUDA:0 (NVIDIA GeForce RTX 3070, 8192MiB)\r\n",
      "\r\n",
      "\u001B[34m\u001B[1mhyperparameters: \u001B[0mlr0=0.01, lrf=0.01, momentum=0.937, weight_decay=0.0005, warmup_epochs=3.0, warmup_momentum=0.8, warmup_bias_lr=0.1, box=0.05, cls=0.5, cls_pw=1.0, obj=1.0, obj_pw=1.0, iou_t=0.2, anchor_t=4.0, fl_gamma=0.0, hsv_h=0.015, hsv_s=0.7, hsv_v=0.4, degrees=0.0, translate=0.1, scale=0.5, shear=0.0, perspective=0.0, flipud=0.0, fliplr=0.5, mosaic=1.0, mixup=0.0, copy_paste=0.0\r\n",
      "\u001B[34m\u001B[1mClearML: \u001B[0mrun 'pip install clearml' to automatically track, visualize and remotely train YOLOv5  in ClearML\r\n",
      "\u001B[34m\u001B[1mTensorBoard: \u001B[0mStart with 'tensorboard --logdir runs\\train', view at http://localhost:6006/\r\n",
      "COMET WARNING: To get all data logged automatically, import comet_ml before the following modules: torch, tensorboard.\r\n",
      "COMET WARNING: Native output logging mode is not available, falling back to basic output logging\r\n",
      "COMET WARNING: Unknown error exporting current conda environment\r\n",
      "COMET WARNING: Unknown error retrieving Conda package as an explicit file\r\n",
      "COMET WARNING: Unknown error retrieving Conda information\r\n",
      "COMET INFO: Experiment is live on comet.com https://www.comet.com/aj730/yolov5/c7dc100ae1994630a6a162e8a566cfc5\r\n",
      "\r\n",
      "Overriding model.yaml nc=80 with nc=2\r\n",
      "\r\n",
      "                 from  n    params  module                                  arguments                     \r\n",
      "  0                -1  1      3520  models.common.Conv                      [3, 32, 6, 2, 2]              \r\n",
      "  1                -1  1     18560  models.common.Conv                      [32, 64, 3, 2]                \r\n",
      "  2                -1  1     18816  models.common.C3                        [64, 64, 1]                   \r\n",
      "  3                -1  1     73984  models.common.Conv                      [64, 128, 3, 2]               \r\n",
      "  4                -1  2    115712  models.common.C3                        [128, 128, 2]                 \r\n",
      "  5                -1  1    295424  models.common.Conv                      [128, 256, 3, 2]              \r\n",
      "  6                -1  3    625152  models.common.C3                        [256, 256, 3]                 \r\n",
      "  7                -1  1   1180672  models.common.Conv                      [256, 512, 3, 2]              \r\n",
      "  8                -1  1   1182720  models.common.C3                        [512, 512, 1]                 \r\n",
      "  9                -1  1    656896  models.common.SPPF                      [512, 512, 5]                 \r\n",
      " 10                -1  1    131584  models.common.Conv                      [512, 256, 1, 1]              \r\n",
      " 11                -1  1         0  torch.nn.modules.upsampling.Upsample    [None, 2, 'nearest']          \r\n",
      " 12           [-1, 6]  1         0  models.common.Concat                    [1]                           \r\n",
      " 13                -1  1    361984  models.common.C3                        [512, 256, 1, False]          \r\n",
      " 14                -1  1     33024  models.common.Conv                      [256, 128, 1, 1]              \r\n",
      " 15                -1  1         0  torch.nn.modules.upsampling.Upsample    [None, 2, 'nearest']          \r\n",
      " 16           [-1, 4]  1         0  models.common.Concat                    [1]                           \r\n",
      " 17                -1  1     90880  models.common.C3                        [256, 128, 1, False]          \r\n",
      " 18                -1  1    147712  models.common.Conv                      [128, 128, 3, 2]              \r\n",
      " 19          [-1, 14]  1         0  models.common.Concat                    [1]                           \r\n",
      " 20                -1  1    296448  models.common.C3                        [256, 256, 1, False]          \r\n",
      " 21                -1  1    590336  models.common.Conv                      [256, 256, 3, 2]              \r\n",
      " 22          [-1, 10]  1         0  models.common.Concat                    [1]                           \r\n",
      " 23                -1  1   1182720  models.common.C3                        [512, 512, 1, False]          \r\n",
      " 24      [17, 20, 23]  1     18879  models.yolo.Detect                      [2, [[10, 13, 16, 30, 33, 23], [30, 61, 62, 45, 59, 119], [116, 90, 156, 198, 373, 326]], [128, 256, 512]]\r\n",
      "YOLOv5s summary: 214 layers, 7025023 parameters, 7025023 gradients, 16.0 GFLOPs\r\n",
      "\r\n",
      "Transferred 348/349 items from ..\\best.pt\r\n",
      "\u001B[34m\u001B[1mAMP: \u001B[0mchecks passed \r\n",
      "\u001B[34m\u001B[1moptimizer:\u001B[0m SGD(lr=0.01) with parameter groups 57 weight(decay=0.0), 60 weight(decay=0.0005), 60 bias\r\n",
      "\u001B[34m\u001B[1mtrain: \u001B[0mScanning D:\\valoCV\\Yolo\\yolov5\\datasets\\valorant\\train\\labels.cache... 405 images, 35 backgrounds, 0 corrupt: 100%|##########| 405/405 [00:00<?, ?it/s]\r\n",
      "\u001B[34m\u001B[1mtrain: \u001B[0mCaching images (0.2GB ram): 100%|##########| 405/405 [00:00<00:00, 5328.92it/s]\r\n",
      "\u001B[34m\u001B[1mval: \u001B[0mScanning D:\\valoCV\\Yolo\\yolov5\\datasets\\valorant\\valid\\labels.cache... 69 images, 4 backgrounds, 0 corrupt: 100%|##########| 69/69 [00:00<?, ?it/s]\r\n",
      "\u001B[34m\u001B[1mval: \u001B[0mCaching images (0.0GB ram): 100%|##########| 69/69 [00:00<00:00, 4928.26it/s]\r\n",
      "\r\n",
      "\u001B[34m\u001B[1mAutoAnchor: \u001B[0m4.27 anchors/target, 0.996 Best Possible Recall (BPR). Current anchors are a good fit to dataset \r\n",
      "Plotting labels to runs\\train\\exp10\\labels.jpg... \r\n",
      "Image sizes 416 train, 416 val\r\n",
      "Using 4 dataloader workers\r\n",
      "Logging results to \u001B[1mruns\\train\\exp10\u001B[0m\r\n",
      "Starting training for 1 epochs...\r\n",
      "\r\n",
      "      Epoch    GPU_mem   box_loss   obj_loss   cls_loss  Instances       Size\r\n",
      "        0/0     0.721G    0.03249    0.00737    0.00111          2        416: 100%|##########| 102/102 [00:04<00:00, 21.98it/s]\r\n",
      "                 Class     Images  Instances          P          R      mAP50   mAP50-95: 100%|##########| 9/9 [00:00<00:00, 11.02it/s]\r\n",
      "                   all         69        133      0.891      0.879      0.877       0.34\r\n",
      "\r\n",
      "1 epochs completed in 0.002 hours.\r\n",
      "Optimizer stripped from runs\\train\\exp10\\weights\\last.pt, 14.3MB\r\n",
      "Optimizer stripped from runs\\train\\exp10\\weights\\best.pt, 14.3MB\r\n",
      "\r\n",
      "Validating runs\\train\\exp10\\weights\\best.pt...\r\n",
      "Fusing layers... \r\n",
      "YOLOv5s summary: 157 layers, 7015519 parameters, 0 gradients, 15.8 GFLOPs\r\n",
      "                 Class     Images  Instances          P          R      mAP50   mAP50-95: 100%|##########| 9/9 [00:00<00:00, 10.68it/s]\r\n",
      "                   all         69        133      0.898      0.879      0.878      0.341\r\n",
      "             enemyBody         69         67       0.91       0.91      0.904      0.373\r\n",
      "            enemyHeadz         69         66      0.885      0.848      0.851      0.308\r\n",
      "COMET ERROR: File upload failed: ValueError('Uploading file failed (500) with max retries: 4 on url \\'https://www.comet.com/clientlib/visualizations/upload\\': b\\'{\"msg\":\"Failed to save image.\",\"code\":500,\"data\":null,\"sdk_error_code\":0}\\''), file: C:\\Users\\akash\\AppData\\Local\\Temp\\tmp65m4rftb\\tmp4ymkvgg8\r\n",
      "Results saved to \u001B[1mruns\\train\\exp10\u001B[0m\r\n",
      "COMET ERROR: File upload failed: ValueError('Uploading file failed (500) with max retries: 4 on url \\'https://www.comet.com/clientlib/visualizations/upload\\': b\\'{\"msg\":\"Failed to save image.\",\"code\":500,\"data\":null,\"sdk_error_code\":0}\\''), file: C:\\Users\\akash\\AppData\\Local\\Temp\\tmp65m4rftb\\tmp6r77wif8\r\n",
      "COMET ERROR: File upload failed: ValueError('Uploading file failed (500) with max retries: 4 on url \\'https://www.comet.com/clientlib/visualizations/upload\\': b\\'{\"msg\":\"Failed to save image.\",\"code\":500,\"data\":null,\"sdk_error_code\":0}\\''), file: C:\\Users\\akash\\AppData\\Local\\Temp\\tmp65m4rftb\\tmp_yaog_5i\r\n",
      "COMET ERROR: File upload failed: ValueError('Uploading file failed (500) with max retries: 4 on url \\'https://www.comet.com/clientlib/visualizations/upload\\': b\\'{\"msg\":\"Failed to save image.\",\"code\":500,\"data\":null,\"sdk_error_code\":0}\\''), file: C:\\Users\\akash\\AppData\\Local\\Temp\\tmp65m4rftb\\tmpug3up4uw\r\n",
      "COMET ERROR: File upload failed: ValueError('Uploading file failed (500) with max retries: 4 on url \\'https://www.comet.com/clientlib/visualizations/upload\\': b\\'{\"msg\":\"Failed to save image.\",\"code\":500,\"data\":null,\"sdk_error_code\":0}\\''), file: C:\\Users\\akash\\AppData\\Local\\Temp\\tmp65m4rftb\\tmp95svtc1y\r\n",
      "COMET ERROR: File upload failed: ValueError('Uploading file failed (500) with max retries: 4 on url \\'https://www.comet.com/clientlib/visualizations/upload\\': b\\'{\"msg\":\"Failed to save image.\",\"code\":500,\"data\":null,\"sdk_error_code\":0}\\''), file: C:\\Users\\akash\\AppData\\Local\\Temp\\tmp65m4rftb\\tmpk201ctwu\r\n",
      "COMET INFO: ---------------------------------------------------------------------------------------\r\n",
      "COMET INFO: Comet.ml Experiment Summary\r\n",
      "COMET INFO: ---------------------------------------------------------------------------------------\r\n",
      "COMET INFO:   Data:\r\n",
      "COMET INFO:     display_summary_level : 1\r\n",
      "COMET INFO:     url                   : https://www.comet.com/aj730/yolov5/c7dc100ae1994630a6a162e8a566cfc5\r\n",
      "COMET INFO:   Metrics:\r\n",
      "COMET INFO:     metrics/mAP_0.5      : 0.8771627775880266\r\n",
      "COMET INFO:     metrics/mAP_0.5:0.95 : 0.3401471326316533\r\n",
      "COMET INFO:     metrics/precision    : 0.8907765928627569\r\n",
      "COMET INFO:     metrics/recall       : 0.8794663048394391\r\n",
      "COMET INFO:     train/box_loss       : 0.03249331936240196\r\n",
      "COMET INFO:     train/cls_loss       : 0.001110421260818839\r\n",
      "COMET INFO:     train/obj_loss       : 0.007369794882833958\r\n",
      "COMET INFO:     val/box_loss         : 0.04594530165195465\r\n",
      "COMET INFO:     val/cls_loss         : 0.0010547108249738812\r\n",
      "COMET INFO:     val/obj_loss         : 0.007687810342758894\r\n",
      "COMET INFO:     x/lr0                : 0.07029411764705883\r\n",
      "COMET INFO:     x/lr1                : 0.003300653594771242\r\n",
      "COMET INFO:     x/lr2                : 0.003300653594771242\r\n",
      "COMET INFO:   Others:\r\n",
      "COMET INFO:     Created from                : YOLOv5\r\n",
      "COMET INFO:     Run Path                    : aj730/yolov5/c7dc100ae1994630a6a162e8a566cfc5\r\n",
      "COMET INFO:     comet_log_batch_metrics     : False\r\n",
      "COMET INFO:     comet_log_confusion_matrix  : True\r\n",
      "COMET INFO:     comet_log_per_class_metrics : False\r\n",
      "COMET INFO:     comet_max_image_uploads     : 100\r\n",
      "COMET INFO:     comet_mode                  : online\r\n",
      "COMET INFO:     comet_model_name            : yolov5\r\n",
      "COMET INFO:   Parameters:\r\n",
      "COMET INFO:     anchor_t           : 4.0\r\n",
      "COMET INFO:     artifact_alias     : latest\r\n",
      "COMET INFO:     batch_size         : 4\r\n",
      "COMET INFO:     bbox_interval      : -1\r\n",
      "COMET INFO:     box                : 0.05\r\n",
      "COMET INFO:     bucket             : \r\n",
      "COMET INFO:     cls                : 0.012500000000000002\r\n",
      "COMET INFO:     cls_pw             : 1.0\r\n",
      "COMET INFO:     copy_paste         : 0.0\r\n",
      "COMET INFO:     cos_lr             : False\r\n",
      "COMET INFO:     degrees            : 0.0\r\n",
      "COMET INFO:     device             : \r\n",
      "COMET INFO:     entity             : 1\r\n",
      "COMET INFO:     evolve             : 1\r\n",
      "COMET INFO:     exist_ok           : False\r\n",
      "COMET INFO:     fl_gamma           : 0.0\r\n",
      "COMET INFO:     fliplr             : 0.5\r\n",
      "COMET INFO:     flipud             : 0.0\r\n",
      "COMET INFO:     freeze             : [0]\r\n",
      "COMET INFO:     hsv_h              : 0.015\r\n",
      "COMET INFO:     hsv_s              : 0.7\r\n",
      "COMET INFO:     hsv_v              : 0.4\r\n",
      "COMET INFO:     hyp                : {\"anchor_t\": 4.0, \"box\": 0.05, \"cls\": 0.5, \"cls_pw\": 1.0, \"copy_paste\": 0.0, \"degrees\": 0.0, \"fl_gamma\": 0.0, \"fliplr\": 0.5, \"flipud\": 0.0, \"hsv_h\": 0.015, \"hsv_s\": 0.7, \"hsv_v\": 0.4, \"iou_t\": 0.2, \"lr0\": 0.01, \"lrf\": 0.01, \"mixup\": 0.0, \"momentum\": 0.937, \"mosaic\": 1.0, \"obj\": 1.0, \"obj_pw\": 1.0, \"perspective\": 0.0, \"scale\": 0.5, \"shear\": 0.0, \"translate\": 0.1, \"warmup_bias_lr\": 0.1, \"warmup_epochs\": 3.0, \"warmup_momentum\": 0.8, \"weight_decay\": 0.0005}\r\n",
      "COMET INFO:     image_weights      : False\r\n",
      "COMET INFO:     imgsz              : 416\r\n",
      "COMET INFO:     iou_t              : 0.2\r\n",
      "COMET INFO:     label_smoothing    : 0.0\r\n",
      "COMET INFO:     local_rank         : -1\r\n",
      "COMET INFO:     lr0                : 0.01\r\n",
      "COMET INFO:     lrf                : 0.01\r\n",
      "COMET INFO:     mixup              : 0.0\r\n",
      "COMET INFO:     momentum           : 0.937\r\n",
      "COMET INFO:     mosaic             : 1.0\r\n",
      "COMET INFO:     multi_scale        : False\r\n",
      "COMET INFO:     name               : exp\r\n",
      "COMET INFO:     noautoanchor       : False\r\n",
      "COMET INFO:     noplots            : False\r\n",
      "COMET INFO:     nosave             : False\r\n",
      "COMET INFO:     noval              : False\r\n",
      "COMET INFO:     obj                : 0.42250000000000004\r\n",
      "COMET INFO:     obj_pw             : 1.0\r\n",
      "COMET INFO:     optimizer          : SGD\r\n",
      "COMET INFO:     patience           : 100\r\n",
      "COMET INFO:     perspective        : 0.0\r\n",
      "COMET INFO:     project            : runs\\train\r\n",
      "COMET INFO:     quad               : False\r\n",
      "COMET INFO:     rect               : False\r\n",
      "COMET INFO:     resume             : False\r\n",
      "COMET INFO:     save_dir           : runs\\train\\exp10\r\n",
      "COMET INFO:     save_period        : -1\r\n",
      "COMET INFO:     scale              : 0.5\r\n",
      "COMET INFO:     seed               : 0\r\n",
      "COMET INFO:     shear              : 0.0\r\n",
      "COMET INFO:     single_cls         : False\r\n",
      "COMET INFO:     sync_bn            : False\r\n",
      "COMET INFO:     translate          : 0.1\r\n",
      "COMET INFO:     upload_dataset     : False\r\n",
      "COMET INFO:     val_conf_threshold : 0.001\r\n",
      "COMET INFO:     val_iou_threshold  : 0.6\r\n",
      "COMET INFO:     warmup_bias_lr     : 0.1\r\n",
      "COMET INFO:     warmup_epochs      : 3.0\r\n",
      "COMET INFO:     warmup_momentum    : 0.8\r\n",
      "COMET INFO:     weight_decay       : 0.0005\r\n",
      "COMET INFO:     workers            : 8\r\n",
      "COMET INFO:   Uploads:\r\n",
      "COMET INFO:     asset               : 13 (1.07 MB)\r\n",
      "COMET INFO:     confusion-matrix    : 1\r\n",
      "COMET INFO:     environment details : 1\r\n",
      "COMET INFO:     git metadata        : 1\r\n",
      "COMET INFO:     images              : 6\r\n",
      "COMET INFO:     installed packages  : 1\r\n",
      "COMET INFO: \r\n",
      "COMET WARNING: To get all data logged automatically, import comet_ml before the following modules: torch, tensorboard.\r\n",
      "COMET INFO: Please wait for metadata to finish uploading (timeout is 3600 seconds)\r\n",
      "COMET INFO: Uploading 1 metrics, params and output messages\r\n"
     ]
    },
    {
     "name": "stdout",
     "output_type": "stream",
     "text": [
      "\r\n",
      "(systems_security) D:\\valoCV\\Yolo\\yolov5>"
     ]
    }
   ],
   "source": [
    "%%cmd\n",
    "python train.py --img 416 --batch 4 --epochs 1 --data valorant.yaml --cfg ./models/yolov5s.yaml --weights ../best.pt --cache"
   ],
   "metadata": {
    "collapsed": false,
    "ExecuteTime": {
     "end_time": "2023-05-26T14:18:25.964741200Z",
     "start_time": "2023-05-26T14:17:13.033967600Z"
    }
   }
  },
  {
   "cell_type": "code",
   "execution_count": 7,
   "outputs": [
    {
     "name": "stdout",
     "output_type": "stream",
     "text": [
      "Microsoft Windows [Version 10.0.19045.2965]\r\n",
      "(c) Microsoft Corporation. All rights reserved.\r\n",
      "\r\n",
      "(systems_security) D:\\aimbot\\yolov5>python detect.py --weights best.pt --img 416 --conf 0.25 --source datasets/valorant/test/images\n"
     ]
    },
    {
     "name": "stderr",
     "output_type": "stream",
     "text": [
      "\u001B[34m\u001B[1mdetect: \u001B[0mweights=['best.pt'], source=datasets/valorant/test/images, data=data\\coco128.yaml, imgsz=[416, 416], conf_thres=0.25, iou_thres=0.45, max_det=1000, device=, view_img=False, save_txt=False, save_conf=False, save_crop=False, nosave=False, classes=None, agnostic_nms=False, augment=False, visualize=False, update=False, project=runs\\detect, name=exp, exist_ok=False, line_thickness=3, hide_labels=False, hide_conf=False, half=False, dnn=False, vid_stride=1\r\n",
      "YOLOv5  v7.0-172-gc3c1304 Python-3.9.16 torch-2.0.1+cu118 CUDA:0 (NVIDIA GeForce RTX 3070, 8192MiB)\r\n",
      "\r\n",
      "Fusing layers... \r\n",
      "YOLOv5s summary: 157 layers, 7015519 parameters, 0 gradients, 15.8 GFLOPs\r\n",
      "image 1/34 D:\\aimbot\\yolov5\\datasets\\valorant\\test\\images\\Valorant-Screenshot-2022-02-05-02-07-22-49_png.rf.6756dfeab0d26f2390c1b5ecd3dd32d4.jpg: 416x416 1 enemyBody, 1 enemyHead, 3.0ms\r\n",
      "image 2/34 D:\\aimbot\\yolov5\\datasets\\valorant\\test\\images\\Valorant-Screenshot-2022-02-05-02-07-27-68_png.rf.6ea45e8146ee31d5081456954fc2620a.jpg: 416x416 1 enemyBody, 1 enemyHead, 3.0ms\r\n",
      "image 3/34 D:\\aimbot\\yolov5\\datasets\\valorant\\test\\images\\Valorant-Screenshot-2022-02-05-02-07-51-58_png.rf.3400f53333191ea42927bb9222f55f94.jpg: 416x416 1 enemyBody, 1 enemyHead, 3.0ms\r\n",
      "image 4/34 D:\\aimbot\\yolov5\\datasets\\valorant\\test\\images\\Valorant-Screenshot-2022-02-05-02-08-52-15_png.rf.1b29fb4b570fe7669faef8aa16fca5b2.jpg: 416x416 1 enemyBody, 1 enemyHead, 3.0ms\r\n",
      "image 5/34 D:\\aimbot\\yolov5\\datasets\\valorant\\test\\images\\Valorant-Screenshot-2022-02-05-02-09-33-38_png.rf.0b90e0d82cb81d824ddfd3fdead03c40.jpg: 416x416 1 enemyBody, 1 enemyHead, 3.0ms\r\n",
      "image 6/34 D:\\aimbot\\yolov5\\datasets\\valorant\\test\\images\\Valorant-Screenshot-2022-02-05-02-11-32-58_png.rf.daf6a3fff19896aa045e1ee0d0622144.jpg: 416x416 1 enemyBody, 1 enemyHead, 2.0ms\r\n",
      "image 7/34 D:\\aimbot\\yolov5\\datasets\\valorant\\test\\images\\Valorant-Screenshot-2022-02-05-02-11-49-27_png.rf.581ca1f0facdf42a5ffc29774869ca72.jpg: 416x416 1 enemyBody, 1 enemyHead, 3.0ms\r\n",
      "image 8/34 D:\\aimbot\\yolov5\\datasets\\valorant\\test\\images\\Valorant-Screenshot-2022-02-05-02-12-03-76_png.rf.29a2cdcb3f01a2b85978fbe01af7cf33.jpg: 416x416 1 enemyBody, 1 enemyHead, 3.0ms\r\n",
      "image 9/34 D:\\aimbot\\yolov5\\datasets\\valorant\\test\\images\\Valorant-Screenshot-2022-02-05-02-12-25-69_png.rf.1ce169ad6c8f094006a6a299904e4934.jpg: 416x416 1 enemyBody, 1 enemyHead, 3.0ms\r\n",
      "image 10/34 D:\\aimbot\\yolov5\\datasets\\valorant\\test\\images\\Valorant-Screenshot-2022-02-05-02-12-26-36_png.rf.3260822ec8864768ed7034e0f978d922.jpg: 416x416 1 enemyBody, 1 enemyHead, 4.0ms\r\n",
      "image 11/34 D:\\aimbot\\yolov5\\datasets\\valorant\\test\\images\\Valorant-Screenshot-2022-02-05-02-14-54-13_png.rf.a45fb0a710dce2afbc2622be944bff4d.jpg: 416x416 1 enemyBody, 1 enemyHead, 3.0ms\r\n",
      "image 12/34 D:\\aimbot\\yolov5\\datasets\\valorant\\test\\images\\Valorant-Screenshot-2022-02-05-02-15-02-24_png.rf.8b27543be1b559eb77a81a47b4c28405.jpg: 416x416 1 enemyBody, 1 enemyHead, 2.0ms\r\n",
      "image 13/34 D:\\aimbot\\yolov5\\datasets\\valorant\\test\\images\\Valorant-Screenshot-2022-02-05-02-15-03-08_png.rf.e42b602309c4baddc81a1010b2fe84ee.jpg: 416x416 1 enemyBody, 1 enemyHead, 3.0ms\r\n",
      "image 14/34 D:\\aimbot\\yolov5\\datasets\\valorant\\test\\images\\Valorant-Screenshot-2022-02-05-02-15-37-15_png.rf.f4d35ae8fb8ff3602f803bf166a3a6a7.jpg: 416x416 1 enemyBody, 1 enemyHead, 2.0ms\r\n",
      "image 15/34 D:\\aimbot\\yolov5\\datasets\\valorant\\test\\images\\Valorant-Screenshot-2022-02-05-02-16-09-97_png.rf.0781dbc17dd25c487e0fe1d07593f1f9.jpg: 416x416 1 enemyBody, 1 enemyHead, 3.0ms\r\n",
      "image 16/34 D:\\aimbot\\yolov5\\datasets\\valorant\\test\\images\\Valorant-Screenshot-2022-02-05-02-16-24-13_png.rf.c77525790e9a6e838b5e3978b0fc141a.jpg: 416x416 1 enemyBody, 1 enemyHead, 3.0ms\r\n",
      "image 17/34 D:\\aimbot\\yolov5\\datasets\\valorant\\test\\images\\Valorant-Screenshot-2022-02-05-02-16-25-90_png.rf.10a4a1a1ecc65256bb2f30154a106946.jpg: 416x416 1 enemyBody, 1 enemyHead, 3.0ms\r\n",
      "image 18/34 D:\\aimbot\\yolov5\\datasets\\valorant\\test\\images\\Valorant-Screenshot-2022-02-05-02-17-17-71_png.rf.fc6ceb48b6a27320747aa697a7f804b4.jpg: 416x416 1 enemyBody, 1 enemyHead, 3.0ms\r\n",
      "image 19/34 D:\\aimbot\\yolov5\\datasets\\valorant\\test\\images\\Valorant-Screenshot-2022-02-05-02-17-55-86_png.rf.b738c8a72b6d7f0bc76449e8b9f7e90c.jpg: 416x416 1 enemyBody, 1 enemyHead, 2.0ms\r\n",
      "image 20/34 D:\\aimbot\\yolov5\\datasets\\valorant\\test\\images\\Valorant-Screenshot-2022-02-05-02-18-09-45_png.rf.6a551dd62dbf1261dafd20fb0b9ff1ac.jpg: 416x416 2 enemyBodys, 3 enemyHeads, 4.0ms\r\n",
      "image 21/34 D:\\aimbot\\yolov5\\datasets\\valorant\\test\\images\\Valorant-Screenshot-2022-02-05-02-19-02-49_png.rf.f53301fc35faacee0e15a8e680b7e883.jpg: 416x416 1 enemyBody, 1 enemyHead, 2.0ms\r\n",
      "image 22/34 D:\\aimbot\\yolov5\\datasets\\valorant\\test\\images\\Valorant-Screenshot-2022-02-05-02-19-18-09_png.rf.808e597ee7a26fe4d184da01078ee114.jpg: 416x416 1 enemyBody, 1 enemyHead, 3.0ms\r\n",
      "image 23/34 D:\\aimbot\\yolov5\\datasets\\valorant\\test\\images\\Valorant-Screenshot-2022-02-05-02-20-15-68_png.rf.ab3a3ea2d431269ae133c546bd1f23e7.jpg: 416x416 1 enemyBody, 1 enemyHead, 3.0ms\r\n",
      "image 24/34 D:\\aimbot\\yolov5\\datasets\\valorant\\test\\images\\Valorant-Screenshot-2022-02-05-02-20-20-36_png.rf.254aae21ab70f53c35f4dbfd3de0439f.jpg: 416x416 1 enemyBody, 1 enemyHead, 4.0ms\r\n",
      "image 25/34 D:\\aimbot\\yolov5\\datasets\\valorant\\test\\images\\Valorant-Screenshot-2022-02-05-02-20-24-03_png.rf.ddde4af456bebdbd722130ffc89b78a6.jpg: 416x416 2 enemyBodys, 2 enemyHeads, 3.0ms\r\n",
      "image 26/34 D:\\aimbot\\yolov5\\datasets\\valorant\\test\\images\\Valorant-Screenshot-2022-02-05-02-20-26-65_png.rf.cf4537154124a4c2fd0fb2798c0a5f3a.jpg: 416x416 (no detections), 2.0ms\r\n",
      "image 27/34 D:\\aimbot\\yolov5\\datasets\\valorant\\test\\images\\Valorant-Screenshot-2022-02-05-02-20-26-95_png.rf.6388aad3d3f48e5783d06770aceabee4.jpg: 416x416 1 enemyBody, 1 enemyHead, 3.0ms\r\n",
      "image 28/34 D:\\aimbot\\yolov5\\datasets\\valorant\\test\\images\\Valorant-Screenshot-2022-02-05-02-20-44-60_png.rf.efe360e5b8f7b15608bf25cc1743e797.jpg: 416x416 2 enemyBodys, 2 enemyHeads, 3.0ms\r\n",
      "image 29/34 D:\\aimbot\\yolov5\\datasets\\valorant\\test\\images\\Valorant-Screenshot-2022-02-06-20-27-58-06_png.rf.99bb65e784ea00138f3e626d5972118a.jpg: 416x416 1 enemyBody, 1 enemyHead, 2.0ms\r\n",
      "image 30/34 D:\\aimbot\\yolov5\\datasets\\valorant\\test\\images\\Valorant-Screenshot-2022-02-06-20-29-43-09_png.rf.50102c7dd98b885bec910090847ea4e2.jpg: 416x416 1 enemyBody, 3 enemyHeads, 3.0ms\r\n",
      "image 31/34 D:\\aimbot\\yolov5\\datasets\\valorant\\test\\images\\Valorant-Screenshot-2022-02-06-20-39-54-31_png.rf.c06fbe47c01296075bb5ff7888cb0439.jpg: 416x416 1 enemyBody, 3.0ms\r\n",
      "image 32/34 D:\\aimbot\\yolov5\\datasets\\valorant\\test\\images\\Valorant-Screenshot-2022-02-06-20-41-44-07_png.rf.71afdda5aab043b30c45ec7cfd2bd45b.jpg: 416x416 1 enemyBody, 1 enemyHead, 3.0ms\r\n",
      "image 33/34 D:\\aimbot\\yolov5\\datasets\\valorant\\test\\images\\Valorant-Screenshot-2022-02-06-20-55-01-95_png.rf.3740fbaac3f44763de8dd04393d527cd.jpg: 416x416 1 enemyBody, 3.0ms\r\n",
      "image 34/34 D:\\aimbot\\yolov5\\datasets\\valorant\\test\\images\\Valorant-Screenshot-2022-02-06-20-59-25-61_png.rf.551ae6c59477bbb25cf7c21636908160.jpg: 416x416 1 enemyBody, 1 enemyHead, 3.0ms\r\n",
      "Speed: 0.1ms pre-process, 2.9ms inference, 0.8ms NMS per image at shape (1, 3, 416, 416)\r\n",
      "Results saved to \u001B[1mruns\\detect\\exp2\u001B[0m\r\n"
     ]
    },
    {
     "name": "stdout",
     "output_type": "stream",
     "text": [
      "\r\n",
      "(systems_security) D:\\aimbot\\yolov5>"
     ]
    }
   ],
   "source": [
    "%%cmd\n",
    "python detect.py --weights best.pt --img 416 --conf 0.25 --source datasets/valorant/test/images"
   ],
   "metadata": {
    "collapsed": false,
    "ExecuteTime": {
     "end_time": "2023-05-26T01:40:09.223347600Z",
     "start_time": "2023-05-26T01:40:02.329076Z"
    }
   }
  },
  {
   "cell_type": "code",
   "execution_count": 6,
   "outputs": [
    {
     "name": "stdout",
     "output_type": "stream",
     "text": [
      "Microsoft Windows [Version 10.0.19045.2965]\r\n",
      "(c) Microsoft Corporation. All rights reserved.\r\n",
      "\r\n",
      "(systems_security) D:\\aimbot\\yolov5>python val.py --weights best.pt --data valorant.yaml --img 416\n"
     ]
    },
    {
     "name": "stderr",
     "output_type": "stream",
     "text": [
      "\u001B[34m\u001B[1mval: \u001B[0mdata=D:\\aimbot\\yolov5\\data\\valorant.yaml, weights=['best.pt'], batch_size=32, imgsz=416, conf_thres=0.001, iou_thres=0.6, max_det=300, task=val, device=, workers=8, single_cls=False, augment=False, verbose=False, save_txt=False, save_hybrid=False, save_conf=False, save_json=False, project=runs\\val, name=exp, exist_ok=False, half=False, dnn=False\r\n",
      "YOLOv5  v7.0-172-gc3c1304 Python-3.9.16 torch-2.0.1+cu118 CUDA:0 (NVIDIA GeForce RTX 3070, 8192MiB)\r\n",
      "\r\n",
      "Fusing layers... \r\n",
      "YOLOv5s summary: 157 layers, 7015519 parameters, 0 gradients, 15.8 GFLOPs\r\n",
      "\u001B[34m\u001B[1mval: \u001B[0mScanning D:\\aimbot\\yolov5\\datasets\\valorant\\valid\\labels.cache... 69 images, 4 backgrounds, 0 corrupt: 100%|##########| 69/69 [00:00<?, ?it/s]\r\n",
      "                 Class     Images  Instances          P          R      mAP50   mAP50-95: 100%|##########| 3/3 [00:00<00:00,  3.40it/s]\r\n",
      "                   all         69        133      0.897      0.875       0.89      0.351\r\n",
      "             enemyBody         69         67      0.895      0.886      0.891      0.373\r\n",
      "             enemyHead         69         66        0.9      0.864      0.888      0.329\r\n",
      "Speed: 0.7ms pre-process, 5.8ms inference, 0.7ms NMS per image at shape (32, 3, 416, 416)\r\n",
      "Results saved to \u001B[1mruns\\val\\exp2\u001B[0m\r\n"
     ]
    },
    {
     "name": "stdout",
     "output_type": "stream",
     "text": [
      "\r\n",
      "(systems_security) D:\\aimbot\\yolov5>"
     ]
    }
   ],
   "source": [
    "%%cmd\n",
    "python val.py --weights best.pt --data valorant.yaml --img 416"
   ],
   "metadata": {
    "collapsed": false,
    "ExecuteTime": {
     "end_time": "2023-05-26T01:38:59.983363600Z",
     "start_time": "2023-05-26T01:38:24.576755500Z"
    }
   }
  },
  {
   "cell_type": "code",
   "execution_count": null,
   "outputs": [],
   "source": [],
   "metadata": {
    "collapsed": false
   }
  }
 ],
 "metadata": {
  "kernelspec": {
   "display_name": "Python 3",
   "language": "python",
   "name": "python3"
  },
  "language_info": {
   "codemirror_mode": {
    "name": "ipython",
    "version": 2
   },
   "file_extension": ".py",
   "mimetype": "text/x-python",
   "name": "python",
   "nbconvert_exporter": "python",
   "pygments_lexer": "ipython2",
   "version": "2.7.6"
  }
 },
 "nbformat": 4,
 "nbformat_minor": 0
}
